{
  "nbformat": 4,
  "nbformat_minor": 0,
  "metadata": {
    "colab": {
      "name": "HierarchicalClustering.ipynb",
      "provenance": [],
      "collapsed_sections": [
        "EZG3aPcZYKni",
        "ySE9F4g1c45C",
        "oOJXSvVBcpU2",
        "SJq7dfLVfTq_",
        "oTZz_H85fZlD",
        "Y3eRZptnh0P2",
        "8pdk-MwXnqrX",
        "0Bb1DahDwNi9",
        "Dpu6a5azHzPy"
      ]
    },
    "kernelspec": {
      "name": "python3",
      "display_name": "Python 3"
    }
  },
  "cells": [
    {
      "cell_type": "markdown",
      "metadata": {
        "id": "EZG3aPcZYKni"
      },
      "source": [
        "### 階層的なクラスタリング\n",
        "https://wagtail.cds.tohoku.ac.jp/coda/python/machine-learning/clustering-2.html"
      ]
    },
    {
      "cell_type": "markdown",
      "metadata": {
        "id": "MrghF_CEaBe5"
      },
      "source": [
        "- 最短距離法\n",
        "  - クラスターA と　クラスターBに属する全てのデータ点ペアの距離の最小値\n",
        "- 群平均法\n",
        "  - 全てのペアについて等しい重みで取った平均\n",
        "- Ward法\n",
        "  - クラスターの「大きさ」、あるいは「広がり具合」の指標を考えてみる"
      ]
    },
    {
      "cell_type": "markdown",
      "metadata": {
        "id": "jMM6eV1fb1IU"
      },
      "source": [
        "1. 初期状態として、データ点はそれぞれデータ数1のクラスターと考える\n",
        "2. クラスターのペアを調べ、距離が最小のペアを併合して一つのクラスターにまとめる\n",
        "3. 2を、全体がひとつのクラスターになるまで繰り返す"
      ]
    },
    {
      "cell_type": "markdown",
      "metadata": {
        "id": "ySE9F4g1c45C"
      },
      "source": [
        "#### デンドログラム（dendrogram)出力"
      ]
    },
    {
      "cell_type": "code",
      "metadata": {
        "id": "dog_tA6ccIN6"
      },
      "source": [
        "# coding: utf-8\n",
        "import sys\n",
        "import numpy as np\n",
        "import matplotlib.pyplot as plt\n",
        "from scipy.cluster.hierarchy import linkage, dendrogram"
      ],
      "execution_count": null,
      "outputs": []
    },
    {
      "cell_type": "code",
      "metadata": {
        "id": "fJz2t8cUcIab"
      },
      "source": [
        "# 生成するグループの数\n",
        "k = 4\n",
        "# グループ毎の分散\n",
        "sigma = [[20, 0], [0, 20]]\n",
        "\n",
        "# データ点の生成\n",
        "x = np.empty((0, 2))\n",
        "for ell in range(k):\n",
        "  pc = np.random.uniform(low = -20, high = 20, size = (2,))  # グループ毎の代表点\n",
        "  xs = np.random.multivariate_normal(pc, sigma, 30)\n",
        "  x = np.concatenate([x, xs])"
      ],
      "execution_count": null,
      "outputs": []
    },
    {
      "cell_type": "code",
      "metadata": {
        "id": "w79632-kXGSJ"
      },
      "source": [
        "# クラスタリング\n",
        "link = linkage(x, 'ward')\n",
        "labels = range(0, k*30)\n",
        "\n",
        "# 結果のプロット\n",
        "dendrogram(link,\n",
        "           orientation = 'top',\n",
        "           labels = labels,\n",
        "           distance_sort = 'descending',\n",
        "           color_threshold = 40.0,\n",
        "           show_leaf_counts = True)\n",
        "plt.show()"
      ],
      "execution_count": null,
      "outputs": []
    },
    {
      "cell_type": "markdown",
      "metadata": {
        "id": "oOJXSvVBcpU2"
      },
      "source": [
        "#### プロット\n",
        "- コード中程で設定されている変数thresholdの値を超えたら、 そこでクラスターの併合を打ち切る"
      ]
    },
    {
      "cell_type": "code",
      "metadata": {
        "id": "Clx30u3AYa20"
      },
      "source": [
        "# coding: utf-8\n",
        "import numpy as np\n",
        "import matplotlib.pyplot as plt\n",
        "from scipy.cluster.hierarchy import linkage"
      ],
      "execution_count": null,
      "outputs": []
    },
    {
      "cell_type": "code",
      "metadata": {
        "id": "yN5E6248Ya5Z"
      },
      "source": [
        "def rewrite_id(id, link, group, step, n):\n",
        "  i = int(link[step, 0])\n",
        "  j = int(link[step, 1])\n",
        "  if i < n:\n",
        "    group[i] = id\n",
        "  else:\n",
        "    rewrite_id(id, link, group, i - n, n)\n",
        "\n",
        "  if j < n:\n",
        "    group[j] = id\n",
        "  else:\n",
        "    rewrite_id(id, link, group, j - n, n)"
      ],
      "execution_count": null,
      "outputs": []
    },
    {
      "cell_type": "code",
      "metadata": {
        "id": "C0pITzCuYbFP"
      },
      "source": [
        "# 生成するグループの数\n",
        "k = 4\n",
        "# グループ毎の分散\n",
        "sigma = [[20, 0], [0, 20]]\n",
        "\n",
        "# データ点の生成\n",
        "x = np.empty((0, 2))\n",
        "for ell in range(k):\n",
        "  pc = np.random.uniform(low = -20, high = 20, size = (2,))   # グループ毎の代表点\n",
        "  xs = np.random.multivariate_normal(pc, sigma, 30)\n",
        "  x = np.concatenate([x, xs])"
      ],
      "execution_count": null,
      "outputs": []
    },
    {
      "cell_type": "code",
      "metadata": {
        "id": "dlBeqeORYbR-"
      },
      "source": [
        "# クラスタリング\n",
        "\n",
        "linked = linkage(x, 'ward')\n",
        "\n",
        "n = x.shape[0]\n",
        "threshold = 40\n",
        "group = np.empty(n, dtype = 'int32')\n",
        "step = 0\n",
        "while True:\n",
        "  if step >= n - 2:\n",
        "    break\n",
        "  dist = linked[step, 2]   \n",
        "  if dist > threshold:\n",
        "    break\n",
        "  rewrite_id(step + n, linked, group, step, n)\n",
        "  step = step +1 "
      ],
      "execution_count": null,
      "outputs": []
    },
    {
      "cell_type": "code",
      "metadata": {
        "id": "I55TvUowYbcF"
      },
      "source": [
        "# 結果のプロット\n",
        "\n",
        "cmap = plt.get_cmap(\"tab10\")\n",
        "cids = list(set(group))\n",
        "\n",
        "print('cluster ids:', cids)\n",
        "\n",
        "for i in range(x.shape[0]):\n",
        "  ell = cids.index(group[i]) % 10\n",
        "  plt.scatter(x[i, 0], x[i, 1], color = cmap(ell))\n",
        "\n",
        "plt.grid(True)\n",
        "\n",
        "plt.show()"
      ],
      "execution_count": null,
      "outputs": []
    },
    {
      "cell_type": "code",
      "metadata": {
        "id": "K4-mX0oPYbgz"
      },
      "source": [
        ""
      ],
      "execution_count": null,
      "outputs": []
    },
    {
      "cell_type": "markdown",
      "metadata": {
        "id": "SJq7dfLVfTq_"
      },
      "source": [
        "### pythonで階層的クラスタリング\n",
        "https://qiita.com/pontyo4/items/a2e7dec57c3699c519a5"
      ]
    },
    {
      "cell_type": "markdown",
      "metadata": {
        "id": "oTZz_H85fZlD"
      },
      "source": [
        "#### 距離計算手法\n",
        "method | 説明\n",
        ":-----------|:------------\n",
        "average | 重みのない平均距離\n",
        "centroid | 重みのない重心までの距離\n",
        "complete | 最大距離\n",
        "median | 重みのある重心までの距離\n",
        "single | 最小距離\n",
        "ward | 内部平方距離\n",
        "weighted | 重みのある平均距離"
      ]
    },
    {
      "cell_type": "code",
      "metadata": {
        "id": "jSkTZ5WIg3vH"
      },
      "source": [
        "# -*- coding: utf-8 -*-\n",
        "import pandas as pd\n",
        "from scipy.cluster.hierarchy import dendrogram, linkage\n",
        "import matplotlib.pyplot as plt\n",
        "import random"
      ],
      "execution_count": null,
      "outputs": []
    },
    {
      "cell_type": "code",
      "metadata": {
        "id": "Ed-wAyvsg34p"
      },
      "source": [
        "# methodのリスト\n",
        "method_list = (\"average\", \"centroid\", \"complete\", \"median\", \"single\", \"ward\", \"weighted\")\n",
        "data = []   # dataを格納するリスト\n",
        "label = []  # labelを格納するリスト\n",
        "\n",
        "# dataを20個生成\n",
        "for i in range(20):\n",
        "  num = random.randint(0, 99)\n",
        "  data.append(num)\n",
        "  label.append(str(num))"
      ],
      "execution_count": null,
      "outputs": []
    },
    {
      "cell_type": "code",
      "metadata": {
        "id": "nSDVsvCdYbaD"
      },
      "source": [
        "# DataFrameオブジェクト生成\n",
        "df = pd.DataFrame(data)\n",
        "\n",
        "# クラスタリング\n",
        "for method in method_list:\n",
        "  Z = linkage(df, method=method, metric=\"euclidean\")\n",
        "  dendrogram(Z, labels=label)\n",
        "  plt.title(method)\n",
        "  plt.show()"
      ],
      "execution_count": null,
      "outputs": []
    },
    {
      "cell_type": "code",
      "metadata": {
        "id": "7ifXrVeeYbXv"
      },
      "source": [
        ""
      ],
      "execution_count": null,
      "outputs": []
    },
    {
      "cell_type": "markdown",
      "metadata": {
        "id": "Y3eRZptnh0P2"
      },
      "source": [
        "### 超シンプル_Python_階層クラスタリング_\n",
        "https://qiita.com/D_U_8240/items/182a9e5bdfd4c7e2c9a7\n",
        "\n",
        "- kaggle Titanicのデータを使用"
      ]
    },
    {
      "cell_type": "code",
      "metadata": {
        "id": "0jbdvEjLYbV5"
      },
      "source": [
        "import numpy as np\n",
        "import numpy.random as random\n",
        "import scipy as sp\n",
        "from pandas import Series,DataFrame\n",
        "import pandas as pd\n",
        "import csv\n",
        "import math\n",
        "import string\n",
        "import gensim\n",
        "from gensim import corpora, models, similarities\n",
        "import os\n",
        "#下記が階層クラスタリングのライブラリ\n",
        "from scipy.cluster.hierarchy import linkage, dendrogram, cut_tree"
      ],
      "execution_count": null,
      "outputs": []
    },
    {
      "cell_type": "code",
      "metadata": {
        "id": "VdH675HfYbP1"
      },
      "source": [
        "df000 = pd.read_csv(\"https://raw.githubusercontent.com/jiai-edu/teaching_ep_elementary-phython/master/datasets/titanic_train.csv\",encoding=\"CP932\")\n",
        "#欠損値状況を確認(アウトプットは省略しますので実行してみてください)\n",
        "df000.isnull().sum()\n",
        "#まずは年齢の欠損値を平均値で補完\n",
        "df001 = df000\n",
        "df001[\"Age\"] = df000[\"Age\"].fillna(df000[\"Age\"].describe()[\"mean\"])\n",
        "#すいません何故がこのタイミングで説明変数を精査(必要なものをdrop)\n",
        "df003 = df001.drop([\"PassengerId\",\"Name\",\"Ticket\",\"Cabin\",\"Embarked\"],axis=1)\n",
        "#カテゴリ変数のダミー化(性別をダミー化します)\n",
        "df004 = pd.get_dummies(df003[\"Sex\"])\n",
        "#ダミー化した性別情報を元のデータフレームに結合し、カテゴリ\"Sex\"を削除します\n",
        "df005 = pd.concat([df003,df004],axis=1)\n",
        "df006 = df005.drop(\"Sex\",axis=1)"
      ],
      "execution_count": null,
      "outputs": []
    },
    {
      "cell_type": "code",
      "metadata": {
        "id": "M8RcWEGpYbNo"
      },
      "source": [
        "#階層クラスタリングの実行\n",
        "df007 = linkage(df006,metric = 'euclidean',method=\"ward\")"
      ],
      "execution_count": null,
      "outputs": []
    },
    {
      "cell_type": "code",
      "metadata": {
        "id": "Xb9SqIpYYbLs"
      },
      "source": [
        "#階層結果のビジュアライズ\n",
        "plt = dendrogram(df007)"
      ],
      "execution_count": null,
      "outputs": []
    },
    {
      "cell_type": "code",
      "metadata": {
        "id": "EuPAOJn4YbKa"
      },
      "source": [
        "#cut_treeファンクションでクラスタを任意のクラスタに分けれるようにします\n",
        "\n",
        "cuttree = cut_tree(df007)\n",
        "\n",
        "#下記の例では3つのクラスタに分けます\n",
        "df008 = cuttree[:, -3]  # 3クラスに分けるときに\"-3\"と書くところに注意\n",
        "\n",
        "#元のファイルにクラスタ数を結合\n",
        "df006[\"cluster\"] = df008"
      ],
      "execution_count": null,
      "outputs": []
    },
    {
      "cell_type": "markdown",
      "metadata": {
        "id": "iqLrRGHtnd7P"
      },
      "source": [
        "#### 最適なクラスタを探すってどうやるの？\n",
        "1. linkage()の際のmetricとmethodのパターンを変えてみる\n",
        "2. 最後cuttree()のクラスタ数を変えてみる\n",
        "3. そもそもインプットデータの特徴量を変えてみる"
      ]
    },
    {
      "cell_type": "markdown",
      "metadata": {
        "id": "8pdk-MwXnqrX"
      },
      "source": [
        "#### Ref.linkage()のチューニング要素\n",
        "metric | 説明\n",
        ":-----------|:------------\n",
        "euclidean | ユークリッド距離\n",
        "minkowski | ミンコフスキー距離\n",
        "cityblock | マンハッタン距離\n",
        "seuclidean | 標準化されたユークリッド距離\n",
        "sqeuclidean | 乗ユークリッド距離\n",
        "cosine | コサイン距離 (1からベクトルの余弦を引いたもの)\n",
        "correlation | 層間距離(1から標本相関を引いたもの)\n",
        "hamming | 異なる座標の比率を示すハミング距離\n",
        "jaccard | 1からジャカード係数を引いた値\n",
        "chebychev | チェビシェフ距離(最大座標差)\n",
        "canbella | キャンベラ距離\n",
        "braycurtis | ブレイ・カーティス距離\n",
        "mahalanobis | マハラノビス距離\n",
        "\n"
      ]
    },
    {
      "cell_type": "markdown",
      "metadata": {
        "id": "6YAr_3IMoW1s"
      },
      "source": [
        "組合せは任意ですが、データが密集していてあまりうまく分けれない場合は\\\n",
        "metric = euclidean \\\n",
        "method = ward\\\n",
        "の組合せだとうまく分けれるケースが多い"
      ]
    },
    {
      "cell_type": "code",
      "metadata": {
        "id": "bAeico_kYbJm"
      },
      "source": [
        ""
      ],
      "execution_count": null,
      "outputs": []
    },
    {
      "cell_type": "markdown",
      "metadata": {
        "id": "0Bb1DahDwNi9"
      },
      "source": [
        "### 階層的クラスタリングとシルエット係数\n",
        "https://qiita.com/maskot1977/items/a35ac2fdc2c7448ee526\n",
        "\n",
        "#### 実習用データ\n",
        "https://qiita.com/maskot1977/items/453eddf5aa154c04668c"
      ]
    },
    {
      "cell_type": "code",
      "metadata": {
        "id": "ClXoTe1EYbDO"
      },
      "source": [
        "'''\n",
        "# URL によるリソースへのアクセスを提供するライブラリをインポートする。\n",
        "import urllib.request \n",
        "\n",
        "# ウェブ上のリソースを指定する\n",
        "url = 'https://raw.githubusercontent.com/maskot1977/ipython_notebook/master/toydata/sake_dataJ.txt'\n",
        "\n",
        "# 指定したURLからリソースをダウンロードし、名前をつける。\n",
        "urllib.request.urlretrieve(url, 'sake_dataJ.txt') \n",
        "'''"
      ],
      "execution_count": null,
      "outputs": []
    },
    {
      "cell_type": "code",
      "metadata": {
        "id": "r2zCx39GYbBD"
      },
      "source": [
        "import pandas as pd\n",
        "df = pd.read_csv('https://raw.githubusercontent.com/maskot1977/ipython_notebook/master/toydata/sake_dataJ.txt', sep='\\t', index_col=0) # データの読み込み"
      ],
      "execution_count": null,
      "outputs": []
    },
    {
      "cell_type": "code",
      "metadata": {
        "id": "YsJ6rgZGYa9x"
      },
      "source": [
        "# 行列の正規化\n",
        "dfs = df.apply(lambda x: (x-x.mean())/x.std(), axis=1).fillna(0)"
      ],
      "execution_count": null,
      "outputs": []
    },
    {
      "cell_type": "code",
      "metadata": {
        "id": "cLPhtZrhYKE6"
      },
      "source": [
        "%matplotlib inline\n",
        "import matplotlib.pyplot as plt"
      ],
      "execution_count": null,
      "outputs": []
    },
    {
      "cell_type": "code",
      "metadata": {
        "id": "W-lLMeVrYKJf"
      },
      "source": [
        "# metric は色々あるので、ケースバイケースでどれかひとつ好きなものを選ぶ。\n",
        "# method も色々あるので、ケースバイケースでどれかひとつ好きなものを選ぶ。\n",
        "from scipy.cluster.hierarchy import linkage, dendrogram\n",
        "result1 = linkage(dfs.iloc[:, :], \n",
        "                  #metric = 'braycurtis', \n",
        "                  #metric = 'canberra', \n",
        "                  #metric = 'chebyshev', \n",
        "                  #metric = 'cityblock', \n",
        "                  metric = 'correlation', \n",
        "                  #metric = 'cosine', \n",
        "                  #metric = 'euclidean', \n",
        "                  #metric = 'hamming', \n",
        "                  #metric = 'jaccard', \n",
        "                  #method= 'single')\n",
        "                  method = 'average')\n",
        "                  #method= 'complete')\n",
        "                  #method='weighted')\n",
        "plt.figure(figsize=(8, 8))\n",
        "dendrogram(result1, orientation='right', labels=list(df.index), color_threshold=0.01)\n",
        "plt.title(\"Dendrogram\")\n",
        "plt.xlabel(\"Threshold\")\n",
        "plt.grid()\n",
        "plt.show()"
      ],
      "execution_count": null,
      "outputs": []
    },
    {
      "cell_type": "code",
      "metadata": {
        "id": "3Un3UP2jYKMx"
      },
      "source": [
        "# 階層的クラスタリングの結果ファイル\n",
        "pd.DataFrame(result1)"
      ],
      "execution_count": null,
      "outputs": []
    },
    {
      "cell_type": "markdown",
      "metadata": {
        "id": "cAPQbPyL1UsU"
      },
      "source": [
        "- 今回のデータは、沖縄県を除く４６都道府県からなので、０番目から４５番目までのノードから成ります\n",
        "  - これらのノードは、メンバー数 1 のクラスタと見なすことができます\n",
        "\n",
        "- 上の表の０行目は、２７番目のノードと２８番目のノード（ノード間距離＝0.000026）を結合して４６番目のノードにしたことを意味します\n",
        "  - この新しく生成されたクラスタのメンバ数は 2 となります\n",
        "\n",
        "- 同様に１行目は、３６番目のノードと３８番目のノード（ノード間距離＝0.000028）を結合して４７番目のノードにしたことを意味します\n",
        "  - この新しいクラスタのメンバ数は 2 となります\n",
        "\n",
        "- 同様にどんどん続けると、６行目で、２５番目のノードと４６番目のノードを結合します\n",
        "  - この４６番目のノードは、０行目の結合で誕生したノード（クラスタ）です\n",
        "  - この新しいクラスタのメンバ数は 3 となります\n",
        "\n",
        "- ... というような、何と何をどういう順番で結合したかという情報が result1 に記述されています"
      ]
    },
    {
      "cell_type": "markdown",
      "metadata": {
        "id": "Dpu6a5azHzPy"
      },
      "source": [
        "#### Threshold を変えるとクラスタ数や平均クラスタサイズがどう変わるか調べる"
      ]
    },
    {
      "cell_type": "code",
      "metadata": {
        "id": "ckuKMifU2NzT"
      },
      "source": [
        "import numpy as np\n",
        "import matplotlib.pyplot as plt"
      ],
      "execution_count": null,
      "outputs": []
    },
    {
      "cell_type": "code",
      "metadata": {
        "id": "WJIMTIkNYKHt"
      },
      "source": [
        "def draw_threshold_dependency(result):\n",
        "  n_clusters = len(result)\n",
        "  n_samples = len(result)\n",
        "  df1 = pd.DataFrame(result)\n",
        "  x1 = []\n",
        "  y1 = []\n",
        "  x2 = []\n",
        "  y2 = []\n",
        "  for i in range(len(result) - 1):\n",
        "    n1 = int(result[i][0])\n",
        "    n2 = int(result[i][1])\n",
        "    val = result[i][2]\n",
        "    n_clusters -= 1\n",
        "    x1.append(val)\n",
        "    x2.append(val)\n",
        "    y1.append(n_clusters)\n",
        "    y2.append(float(n_samples) / float(n_clusters))\n",
        "\n",
        "  plt.subplot(2, 1, 1)\n",
        "  plt.plot(x1, y1, 'yo-')\n",
        "  plt.title('Threshold dependency of hierarchical clustering')\n",
        "  plt.ylabel('Num of clusters')\n",
        "  plt.subplot(2, 1, 2)\n",
        "  plt.plot(x2, y2, 'ro-')\n",
        "  plt.xlabel('Threshold')\n",
        "  plt.ylabel('Ave cluster size')\n",
        "  plt.show()"
      ],
      "execution_count": null,
      "outputs": []
    },
    {
      "cell_type": "code",
      "metadata": {
        "id": "7F0rfmVD2GUu"
      },
      "source": [
        "draw_threshold_dependency(result1)"
      ],
      "execution_count": null,
      "outputs": []
    },
    {
      "cell_type": "code",
      "metadata": {
        "id": "mM4vxe7k2GZB"
      },
      "source": [
        "# 指定した thoreshold でクラスタを得る関数を作る\n",
        "def get_cluster_by_threshold(result, threshold):\n",
        "  output_clusters = []\n",
        "  output_cluster_ids = []\n",
        "  x_result, y_result = result.shape\n",
        "  n_clusters = x_result + 1\n",
        "  cluster_id = x_result + 1\n",
        "  father_of = {}\n",
        "  x1 = []\n",
        "  y1 = []\n",
        "  x2 = []\n",
        "  y2 = []\n",
        "  for i in range(len(result) - 1):\n",
        "    n1 = int(result[i][0])\n",
        "    n2 = int(result[i][1])\n",
        "    val = result[i][2]\n",
        "    n_clusters -= 1\n",
        "    if val < threshold:\n",
        "      father_of[n1] = cluster_id\n",
        "      father_of[n2] = cluster_id\n",
        "\n",
        "    cluster_id += 1\n",
        "\n",
        "  cluster_dict = {}\n",
        "  for n in range(x_result + 1):\n",
        "    if n not in father_of:\n",
        "      output_clusters.append([n])\n",
        "      continue\n",
        "\n",
        "    n2 = n\n",
        "    m = False\n",
        "    while n2 in father_of:\n",
        "      m = father_of[n2]\n",
        "      #print [n2, m]\n",
        "      n2 = m\n",
        "\n",
        "    if m not in cluster_dict:\n",
        "      cluster_dict.update({m:[]})\n",
        "      cluster_dict[m].append(n)\n",
        "\n",
        "  output_clusters += cluster_dict.values()\n",
        "\n",
        "  output_cluster_id = 0\n",
        "  output_cluster_ids = [0] * (x_result + 1)\n",
        "  for cluster in sorted(output_clusters):\n",
        "    for i in cluster:\n",
        "      output_cluster_ids[i] = output_cluster_id\n",
        "    output_cluster_id += 1\n",
        "\n",
        "  return output_cluster_ids"
      ],
      "execution_count": null,
      "outputs": []
    },
    {
      "cell_type": "code",
      "metadata": {
        "id": "GLApLnAC2GeX"
      },
      "source": [
        "# 指定した thoreshold でクラスタを得る関数を使う。\n",
        "clusterIDs = get_cluster_by_threshold(result1, 0.005)\n",
        "print(clusterIDs)"
      ],
      "execution_count": null,
      "outputs": []
    },
    {
      "cell_type": "code",
      "metadata": {
        "id": "VVpHkYKp2Gi8"
      },
      "source": [
        "# 指定したクラスタ数でクラスタを得る関数を作る。\n",
        "def get_cluster_by_number(result, number):\n",
        "  output_clusters = []\n",
        "  x_result, y_result = result.shape\n",
        "  n_clusters = x_result + 1\n",
        "  cluster_id = x_result + 1\n",
        "  father_of = {}\n",
        "  x1 = []\n",
        "  y1 = []\n",
        "  x2 = []\n",
        "  y2 = []\n",
        "  for i in range(len(result) - 1):\n",
        "    n1 = int(result[i][0])\n",
        "    n2 = int(result[i][1])\n",
        "    val = result[i][2]\n",
        "    n_clusters -= 1\n",
        "    if n_clusters >= number:\n",
        "      father_of[n1] = cluster_id\n",
        "      father_of[n2] = cluster_id\n",
        "\n",
        "    cluster_id += 1\n",
        "\n",
        "  cluster_dict = {}\n",
        "  for n in range(x_result + 1):\n",
        "    if n not in father_of:\n",
        "      output_clusters.append([n])\n",
        "      continue\n",
        "\n",
        "    n2 = n\n",
        "    m = False\n",
        "    while n2 in father_of:\n",
        "      m = father_of[n2]\n",
        "      #print [n2, m]\n",
        "      n2 = m\n",
        "\n",
        "    if m not in cluster_dict:\n",
        "      cluster_dict.update({m:[]})\n",
        "      cluster_dict[m].append(n)\n",
        "\n",
        "  output_clusters += cluster_dict.values()\n",
        "\n",
        "  output_cluster_id = 0\n",
        "  output_cluster_ids = [0] * (x_result + 1)\n",
        "  for cluster in sorted(output_clusters):\n",
        "    for i in cluster:\n",
        "      output_cluster_ids[i] = output_cluster_id\n",
        "    output_cluster_id += 1\n",
        "\n",
        "  return output_cluster_ids"
      ],
      "execution_count": null,
      "outputs": []
    },
    {
      "cell_type": "code",
      "metadata": {
        "id": "DsXZdc5rAGkk"
      },
      "source": [
        "clusterIDs = get_cluster_by_number(result1, 10)\n",
        "print(clusterIDs)"
      ],
      "execution_count": null,
      "outputs": []
    },
    {
      "cell_type": "code",
      "metadata": {
        "id": "ApOnFZUNAGp2"
      },
      "source": [
        "plt.hist(clusterIDs)\n",
        "plt.grid()"
      ],
      "execution_count": null,
      "outputs": []
    },
    {
      "cell_type": "markdown",
      "metadata": {
        "id": "NuLQPsgVBBZV"
      },
      "source": [
        "#### シルエット係数\n",
        "a を「同じクラスタに属するメンバ間の距離の平均」、b を「異なるクラスタに属するメンバ間の距離の平均」としたときに、\n",
        "\n",
        "$\n",
        "\\dfrac{b - a}{max(b, a)}\n",
        "$\n",
        "\n",
        "で表されます。\n",
        "\n",
        "シルエット係数が高いほど、よく分割できている（クラスタ間距離に比べ、クラスタ内距離が十分に短い）ことを示します"
      ]
    },
    {
      "cell_type": "code",
      "metadata": {
        "id": "tLBcDaopAGoi"
      },
      "source": [
        "import math\n",
        "def silhouette_coefficient(clusters, df):\n",
        "  a_same = []\n",
        "  b_diff = []\n",
        "  for i, j in enumerate(clusters):\n",
        "    vec1 = df.iloc[i, :].values\n",
        "    for k, l in enumerate(clusters):\n",
        "      if i < k:\n",
        "        vec2 = df.iloc[k, :].values\n",
        "        dist = 0.\n",
        "        for v1, v2 in zip(vec1, vec2):\n",
        "          dist += (v1 - v2) ** 2\n",
        "        dist = math.sqrt(dist)    # 距離の定義を「ユークリッド距離」とした場合\n",
        "        if j == l: # same cluster\n",
        "          a_same.append(dist)\n",
        "        else: # different cluster\n",
        "          b_diff.append(dist)\n",
        "  a = sum(a_same) / len(a_same)\n",
        "  b = sum(b_diff) / len(b_diff)\n",
        "  return (b - a) / max(b, a)"
      ],
      "execution_count": null,
      "outputs": []
    },
    {
      "cell_type": "code",
      "metadata": {
        "id": "zNHET_-PAGh_"
      },
      "source": [
        "silhouette_coefficient(clusterIDs, df)"
      ],
      "execution_count": null,
      "outputs": []
    },
    {
      "cell_type": "markdown",
      "metadata": {
        "id": "zd9sQ95gD7Rg"
      },
      "source": [
        "#### シルエット係数のクラスタ数依存性"
      ]
    },
    {
      "cell_type": "code",
      "metadata": {
        "id": "K56WO8G9D69S"
      },
      "source": [
        "x = []\n",
        "y = []\n",
        "for i in range(2, len(df)):\n",
        "  x.append(i)\n",
        "  y.append(silhouette_coefficient(get_cluster_by_number(result1, i), df))\n",
        "\n",
        "plt.plot(x, y)\n",
        "plt.xlabel(\"Num of clusters\")\n",
        "plt.ylabel(\"silhouette coefficient\")\n",
        "plt.grid()\n",
        "plt.show()"
      ],
      "execution_count": null,
      "outputs": []
    },
    {
      "cell_type": "markdown",
      "metadata": {
        "id": "m2feOmzlEEJy"
      },
      "source": [
        "#### 計算の高速化\n",
        "- 計算した距離は distance_matrix に格納して、それを必要に応じて読み込む形に改善"
      ]
    },
    {
      "cell_type": "code",
      "metadata": {
        "id": "0h-W1j6UD66c"
      },
      "source": [
        "import math\n",
        "def get_distance_matrix(df):\n",
        "  distance_matrix = []\n",
        "  for i in range(len(df)):\n",
        "    vec1 = df.iloc[i, :].values\n",
        "    distance_array = []\n",
        "    for j in range(len(df)):\n",
        "      vec2 = df.iloc[j, :].values\n",
        "      dist = 0.\n",
        "      for v1, v2 in zip(vec1, vec2):\n",
        "        dist += (v1 - v2) ** 2\n",
        "      distance_array.append(math.sqrt(dist))\n",
        "    distance_matrix.append(distance_array)\n",
        "  return distance_matrix"
      ],
      "execution_count": null,
      "outputs": []
    },
    {
      "cell_type": "code",
      "metadata": {
        "id": "57vmxEKPEOMo"
      },
      "source": [
        "def silhouette_coefficient2(clusters, distance_matrix):\n",
        "  a_same = []\n",
        "  b_diff = []\n",
        "  for i, j in enumerate(clusters):\n",
        "    for k, l in enumerate(clusters):\n",
        "      if i < k:\n",
        "        dist = distance_matrix[i][k]\n",
        "        if j == l:  # same cluster\n",
        "          a_same.append(dist)\n",
        "        else:   # different cluster\n",
        "          b_diff.append(dist)\n",
        "  a = sum(a_same) / len(a_same)\n",
        "  b = sum(b_diff) / len(b_diff)\n",
        "  return (b - a) / max(b, a)"
      ],
      "execution_count": null,
      "outputs": []
    },
    {
      "cell_type": "code",
      "metadata": {
        "id": "XORPZWyPEOP_"
      },
      "source": [
        "distance_matrix = get_distance_matrix(df)\n",
        "\n",
        "x = []\n",
        "y = []\n",
        "for i in range(2, len(df)):\n",
        "  x.append(i)\n",
        "  y.append(silhouette_coefficient2(get_cluster_by_number(result1, i), distance_matrix))\n",
        "\n",
        "plt.plot(x, y)\n",
        "plt.xlabel(\"Num of clusters\")\n",
        "plt.ylabel(\"silhouette coefficient\")\n",
        "plt.grid()\n",
        "plt.show()"
      ],
      "execution_count": null,
      "outputs": []
    },
    {
      "cell_type": "markdown",
      "metadata": {
        "id": "eIIkAiWGE5Ek"
      },
      "source": [
        "#### クラスタに分割して中身を見る"
      ]
    },
    {
      "cell_type": "code",
      "metadata": {
        "id": "znXwT95I2Gcz"
      },
      "source": [
        "clusterIDs = get_cluster_by_number(result1, 10)"
      ],
      "execution_count": null,
      "outputs": []
    },
    {
      "cell_type": "code",
      "metadata": {
        "id": "-gKt3L0GE7X3"
      },
      "source": [
        "for i in range(max(clusterIDs) + 1):\n",
        "  cluster = []\n",
        "  for j, k in enumerate(clusterIDs):\n",
        "    if i == k:\n",
        "      cluster.append(j)\n",
        "  plt.title(\"Cluster {}: {} samples\".format(i + 1, len(cluster)))\n",
        "\n",
        "  for j in cluster:\n",
        "    plt.plot(dfs.iloc[j, :], label=dfs.index[j])\n",
        "\n",
        "  plt.legend(loc = 'center right',\n",
        "             bbox_to_anchor = (0.8, 0.5, 0.5, 0.1),\n",
        "             borderaxespad = 0.0)\n",
        "  plt.grid()\n",
        "  plt.show()"
      ],
      "execution_count": null,
      "outputs": []
    },
    {
      "cell_type": "code",
      "metadata": {
        "id": "TVFOzItZE7kd"
      },
      "source": [
        ""
      ],
      "execution_count": null,
      "outputs": []
    }
  ]
}